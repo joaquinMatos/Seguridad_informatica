{
 "cells": [
  {
   "cell_type": "code",
   "execution_count": 25,
   "id": "e689881f",
   "metadata": {},
   "outputs": [
    {
     "name": "stdout",
     "output_type": "stream",
     "text": [
      "Requirement already satisfied: PyPDF2 in c:\\users\\balam\\anaconda3\\lib\\site-packages (3.0.1)\n",
      "Note: you may need to restart the kernel to use updated packages.\n"
     ]
    }
   ],
   "source": [
    "pip install PyPDF2"
   ]
  },
  {
   "cell_type": "code",
   "execution_count": 30,
   "id": "2901ecdb",
   "metadata": {},
   "outputs": [
    {
     "name": "stdout",
     "output_type": "stream",
     "text": [
      "Joaquin Emanuel M atos Zetina  \n",
      "Hola mundo  \n",
      "Javasrip t \n"
     ]
    }
   ],
   "source": [
    "from PyPDF2 import PdfReader\n",
    "\n",
    "reader = PdfReader(\"ejemplo.pdf\")\n",
    "number_of_pages = len(reader.pages)\n",
    "page = reader.pages[0]\n",
    "text = page.extract_text()\n",
    "\n",
    "print(text)"
   ]
  },
  {
   "cell_type": "code",
   "execution_count": null,
   "id": "6dcb5173",
   "metadata": {},
   "outputs": [],
   "source": [
    "!pip install pandas openpyxl"
   ]
  },
  {
   "cell_type": "code",
   "execution_count": 39,
   "id": "aaa37328",
   "metadata": {
    "scrolled": true
   },
   "outputs": [
    {
     "name": "stdout",
     "output_type": "stream",
     "text": [
      "   Unnamed: 0  Unnamed: 1    Unnamed: 2     Unnamed: 3    Unnamed: 4\n",
      "0         NaN         NaN           NaN            NaN           NaN\n",
      "1         NaN         NaN           NaN            NaN           NaN\n",
      "2         NaN         NaN           NaN            NaN           NaN\n",
      "3         NaN         NaN  Mi estimado   Joaquin Matos  9.984192e+09\n"
     ]
    }
   ],
   "source": [
    "import pandas as pd\n",
    "\n",
    "ruta_archivo_excel = \"BDQROO.xlsx\" \n",
    "df = pd.read_excel(ruta_archivo_excel)\n",
    "\n",
    "\n",
    "print(df.head());"
   ]
  },
  {
   "cell_type": "code",
   "execution_count": 1,
   "id": "584f29fa",
   "metadata": {},
   "outputs": [
    {
     "name": "stdout",
     "output_type": "stream",
     "text": [
      "Requirement already satisfied: python-docx in c:\\users\\balam\\anaconda3\\lib\\site-packages (1.1.0)\n",
      "Requirement already satisfied: lxml>=3.1.0 in c:\\users\\balam\\anaconda3\\lib\\site-packages (from python-docx) (4.9.2)\n",
      "Requirement already satisfied: typing-extensions in c:\\users\\balam\\anaconda3\\lib\\site-packages (from python-docx) (4.7.1)\n"
     ]
    }
   ],
   "source": [
    "!pip install python-docx"
   ]
  },
  {
   "cell_type": "code",
   "execution_count": 2,
   "id": "d56713a1",
   "metadata": {},
   "outputs": [
    {
     "name": "stdout",
     "output_type": "stream",
     "text": [
      "Claro, aquí tienes 10 cifrados útiles, junto con su historia y funcionamiento:\n",
      "\n",
      "1.  Cifrado César :\n",
      "   -  Historia : Atribuido a Julio César en la antigua Roma para proteger mensajes militares.\n",
      "   -  Funcionamiento : Cada letra se desplaza un número fijo de posiciones en el alfabeto. Ejemplo: con un desplazamiento de 3, \"HELLO\" se convierte en \"KHOOR\".\n",
      "\n",
      "2.  Cifrado Vigenère :\n",
      "   -  Historia : Desarrollado por Blaise de Vigenère en el siglo XVI en Francia.\n",
      "   -  Funcionamiento : Usa una palabra clave para determinar múltiples desplazamientos de letras en el mensaje, lo que lo hace más seguro que el cifrado César.\n",
      "\n",
      "3.  Cifrado Enigma :\n",
      "   -  Historia : Utilizado por los nazis durante la Segunda Guerra Mundial.\n",
      "   -  Funcionamiento : Una máquina con rotores que cambiaban constantemente las sustituciones de letras, lo que lo hacía difícil de descifrar.\n",
      "\n",
      "4.  Cifrado RSA :\n",
      "   -  Historia : Desarrollado por Rivest, Shamir y Adleman en 1977.\n",
      "   -  Funcionamiento : Utiliza una clave pública para cifrar y una clave privada para descifrar, basado en la factorización de números grandes en primos.\n",
      "\n",
      "5.  Cifrado AES :\n",
      "   -  Historia : Adoptado como estándar en 2001 para reemplazar el DES.\n",
      "   -  Funcionamiento : Cifra datos en bloques fijos usando una clave simétrica y operaciones de sustitución y permutación.\n",
      "\n",
      "6.  Cifrado de Flujo :\n",
      "   -  Historia : Utilizado en comunicaciones seguras.\n",
      "   -  Funcionamiento : Cifra cada bit o byte del mensaje original utilizando una secuencia de bits generada por una clave.\n",
      "\n",
      "7.  Cifrado de Bloque DES :\n",
      "   -  Historia : Desarrollado en la década de 1970 por IBM.\n",
      "   -  Funcionamiento : Cifra datos en bloques de 64 bits con una clave de 56 bits, utilizando una serie de rondas de sustitución y permutación.\n",
      "\n",
      "8.  Cifrado de Hill :\n",
      "   -  Historia : Desarrollado por Lester S. Hill en 1929.\n",
      "   -  Funcionamiento : Cifra grupos de letras en el mensaje original mediante una matriz de números, proporcionando mayor seguridad.\n",
      "\n",
      "9.  Cifrado de Flujo de Llave Pública (PKC) :\n",
      "   -  Historia : Basado en la criptografía de llave pública.\n",
      "   -  Funcionamiento : Utiliza un par de claves (pública y privada) para cifrar y descifrar datos, aprovechando la dificultad de ciertos problemas matemáticos.\n",
      "\n",
      "10.  Cifrado de Disco Duro :\n",
      "    -  Historia : Utilizado para proteger datos almacenados en dispositivos.\n",
      "    -  Funcionamiento : Cifra datos en un disco duro o unidad de almacenamiento para que solo sean accesibles con una clave o contraseña.\n",
      "\n",
      "Estos cifrados son ampliamente utilizados en la actualidad para proteger la confidencialidad de datos en diversas aplicaciones, desde comunicaciones en línea hasta almacenamiento seguro de información.\n"
     ]
    }
   ],
   "source": [
    "import docx\n",
    "\n",
    "def leer_docx(ruta_archivo):\n",
    "    doc = docx.Document(ruta_archivo)\n",
    "    texto_completo = []\n",
    "    for para in doc.paragraphs:\n",
    "        texto_completo.append(para.text)\n",
    "    return '\\n'.join(texto_completo)\n",
    "\n",
    "ruta_archivo_word = 'Investigacion_Cifrado.docx'\n",
    "contenido_word = leer_docx(ruta_archivo_word)\n",
    "print(contenido_word)"
   ]
  }
 ],
 "metadata": {
  "kernelspec": {
   "display_name": "Python 3 (ipykernel)",
   "language": "python",
   "name": "python3"
  },
  "language_info": {
   "codemirror_mode": {
    "name": "ipython",
    "version": 3
   },
   "file_extension": ".py",
   "mimetype": "text/x-python",
   "name": "python",
   "nbconvert_exporter": "python",
   "pygments_lexer": "ipython3",
   "version": "3.11.4"
  }
 },
 "nbformat": 4,
 "nbformat_minor": 5
}
