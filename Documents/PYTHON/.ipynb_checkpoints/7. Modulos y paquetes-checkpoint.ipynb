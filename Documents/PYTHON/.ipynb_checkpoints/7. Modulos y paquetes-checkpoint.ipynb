{
 "cells": [
  {
   "cell_type": "code",
   "execution_count": null,
   "id": "8a102257",
   "metadata": {},
   "outputs": [
    {
     "name": "stdout",
     "output_type": "stream",
     "text": [
      "--- Sistema de Gestión de Proveedores de Pintura JENMZ ---\n",
      "\n",
      "Menu:\n",
      "1. Registrar Proveedor\n",
      "2. Registrar Pintura\n",
      "3. Registrar Descuento para Pintura\n",
      "4. Ver Pinturas con Descuentos\n",
      "salir para finalizar\n"
     ]
    }
   ],
   "source": [
    "from paquete import modulo1, modulo2, modulo3\n",
    "\n",
    "print(\"--- Sistema de Gestión de Proveedores de Pintura JENMZ ---\")\n",
    "\n",
    "opcion = \"\"\n",
    "while opcion != \"salir\":\n",
    "    print(\"\\nMenu:\")\n",
    "    print(\"1. Registrar Proveedor\")\n",
    "    print(\"2. Registrar Pintura\")\n",
    "    print(\"3. Registrar Descuento para Pintura\")\n",
    "    print(\"4. Ver Pinturas con Descuentos\")\n",
    "    print(\"salir para finalizar\")\n",
    "    opcion = input(\"Seleccione una opción: \")\n",
    "\n",
    "    if opcion == \"1\":\n",
    "        nombre_proveedor = input(\"Ingrese el nombre del proveedor: \")\n",
    "        contacto = input(\"Ingrese el contacto del proveedor: \")\n",
    "        modulo1.agregar_proveedor(nombre_proveedor, contacto)\n",
    "\n",
    "    elif opcion == \"2\":\n",
    "        nombre_pintura = input(\"Ingrese el nombre de la pintura: \")\n",
    "        color = input(\"Ingrese el color de la pintura: \")\n",
    "        precio = float(input(\"Ingrese el precio de la pintura: \"))\n",
    "        proveedor = input(\"Ingrese el nombre del proveedor de la pintura: \")\n",
    "        modulo2.agregar_pintura(nombre_pintura, color, precio, proveedor)\n",
    "\n",
    "    elif opcion == \"3\":\n",
    "        nombre_pintura = input(\"Ingrese el nombre de la pintura para aplicar el descuento: \")\n",
    "        porcentaje = float(input(\"Ingrese el porcentaje de descuento (ej. 10 para 10%): \"))\n",
    "        modulo3.agregar_descuento(nombre_pintura, porcentaje)\n",
    "\n",
    "    elif opcion == \"4\":\n",
    "        pinturas = modulo2.obtener_pinturas()\n",
    "        for pintura in pinturas:\n",
    "            descuento = modulo3.obtener_descuento(pintura['nombre'])\n",
    "            precio_con_descuento = pintura['precio'] * (1 - descuento / 100)\n",
    "            print(f\"{pintura['nombre']} - {pintura['color']} - Precio original: ${pintura['precio']:.2f} - Precio con descuento: ${precio_con_descuento:.2f}\")\n"
   ]
  }
 ],
 "metadata": {
  "kernelspec": {
   "display_name": "Python 3 (ipykernel)",
   "language": "python",
   "name": "python3"
  },
  "language_info": {
   "codemirror_mode": {
    "name": "ipython",
    "version": 3
   },
   "file_extension": ".py",
   "mimetype": "text/x-python",
   "name": "python",
   "nbconvert_exporter": "python",
   "pygments_lexer": "ipython3",
   "version": "3.11.4"
  }
 },
 "nbformat": 4,
 "nbformat_minor": 5
}
