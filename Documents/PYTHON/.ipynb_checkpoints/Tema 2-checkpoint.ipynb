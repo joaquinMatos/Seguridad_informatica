{
 "cells": [
  {
   "cell_type": "markdown",
   "id": "bd7f7277",
   "metadata": {},
   "source": [
    "# 1. variables y tipos de datos"
   ]
  },
  {
   "cell_type": "code",
   "execution_count": 1,
   "id": "8635d884",
   "metadata": {},
   "outputs": [
    {
     "name": "stdout",
     "output_type": "stream",
     "text": [
      "<class 'str'>\n",
      "<class 'str'>\n",
      "<class 'str'>\n",
      "<class 'str'>\n",
      "<class 'int'>\n",
      "<class 'float'>\n",
      "<class 'bool'>\n",
      "<class 'bool'>\n"
     ]
    }
   ],
   "source": [
    "nombre = 'Joaquin'\n",
    "ap_parterno = 'Matos'\n",
    "ap_materno = 'Zetina'\n",
    "\n",
    "nombre_completo = f\"{nombre} {ap_parterno} {ap_materno}\"\n",
    "\n",
    "edad = 19\n",
    "altura = 1.71\n",
    "es_estudiante = True\n",
    "es_docente = False\n",
    "\n",
    "print(type(nombre))\n",
    "print(type(ap_parterno))\n",
    "print(type(ap_materno))\n",
    "print(type(nombre_completo))\n",
    "print(type(edad))\n",
    "print(type(altura))\n",
    "print(type(es_estudiante))\n",
    "print(type(es_docente))"
   ]
  },
  {
   "cell_type": "code",
   "execution_count": null,
   "id": "2fdfae86",
   "metadata": {},
   "outputs": [],
   "source": [
    "# OPERADORES"
   ]
  },
  {
   "cell_type": "code",
   "execution_count": null,
   "id": "7f7c3d15",
   "metadata": {},
   "outputs": [],
   "source": [
    "a = 10\n",
    "b = 3\n",
    "\n",
    "suma = a + b\n",
    "resta = a - b\n",
    "multiplicacion = a * b\n",
    "division = a / b\n",
    "modulo = a % b  # Retorna el residuo de la división"
   ]
  },
  {
   "cell_type": "code",
   "execution_count": null,
   "id": "50acd2cc",
   "metadata": {},
   "outputs": [],
   "source": [
    "# 3. Entrada y salida estandar"
   ]
  },
  {
   "cell_type": "code",
   "execution_count": 2,
   "id": "4cf6c99b",
   "metadata": {},
   "outputs": [
    {
     "name": "stdout",
     "output_type": "stream",
     "text": [
      "Ingresa un numero uno10\n",
      "Ingresa un numero dos10\n",
      "20\n"
     ]
    }
   ],
   "source": [
    "numero_uno = int(input(\"Ingresa un numero uno\"))\n",
    "numero_dos = int(input(\"Ingresa un numero dos\"))\n",
    "\n",
    "suma = numero_uno + numero_dos\n",
    "\n",
    "print(suma)"
   ]
  },
  {
   "cell_type": "code",
   "execution_count": 1,
   "id": "ae9c9649",
   "metadata": {},
   "outputs": [
    {
     "name": "stdout",
     "output_type": "stream",
     "text": [
      "cual es tu nombrejoaquin\n",
      "cual es tu apellidomatos\n",
      "Eres un alumnosi\n",
      "Eres un maestrosi\n",
      "Eres estudiante 'si o no'si\n",
      "True\n"
     ]
    }
   ],
   "source": [
    "nombre = input(\"cual es tu nombre\")\n",
    "apellido = input(\"cual es tu apellido\")\n",
    "tipo1 = bool(input(\"Eres un alumno\"))\n",
    "tipo2 = bool(input(\"Eres un maestro\"))\n",
    "\n",
    "es_estudiante = input(\"Eres estudiante 'si o no'\").lower() #se convierte en minisculas \n",
    "\n",
    "bool_estudiante = es_estudiante == \"si\"\n",
    "\n",
    "print(bool_estudiante)"
   ]
  },
  {
   "cell_type": "code",
   "execution_count": null,
   "id": "192178bf",
   "metadata": {
    "collapsed": true
   },
   "outputs": [],
   "source": []
  },
  {
   "cell_type": "code",
   "execution_count": null,
   "id": "1e4cd118",
   "metadata": {},
   "outputs": [],
   "source": [
    "# Indentificacion\n",
    "# ; no existe en lineas de codigo\n",
    "# {} no existe "
   ]
  }
 ],
 "metadata": {
  "kernelspec": {
   "display_name": "Python 3 (ipykernel)",
   "language": "python",
   "name": "python3"
  },
  "language_info": {
   "codemirror_mode": {
    "name": "ipython",
    "version": 3
   },
   "file_extension": ".py",
   "mimetype": "text/x-python",
   "name": "python",
   "nbconvert_exporter": "python",
   "pygments_lexer": "ipython3",
   "version": "3.11.4"
  }
 },
 "nbformat": 4,
 "nbformat_minor": 5
}
