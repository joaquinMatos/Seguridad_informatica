{
 "cells": [
  {
   "cell_type": "code",
   "execution_count": null,
   "id": "f4c55335",
   "metadata": {},
   "outputs": [],
   "source": [
    "def imc(peso, altura, nombre):\n",
    "    imc_p = peso / (altura**2)  \n",
    "    \n",
    "    if imc_p < 18.5:\n",
    "        print(f\"{nombre}, estás bajo de peso: IMC {round(imc_p, 1)}\")\n",
    "    elif imc_p >= 18.5 and imc_p <= 24.9:\n",
    "        print(f\"{nombre}, estás en un rango de peso normal: IMC {round(imc_p, 1)}\")\n",
    "    elif imc_p >= 25.0 and imc_p <= 29.9:\n",
    "        print(f\"{nombre}, estás en sobrepeso: IMC {round(imc_p, 1)}\")\n",
    "    else:\n",
    "        print(f\"{nombre}, tienes obesidad: IMC {round(imc_p, 1)}\")\n",
    "\n",
    "nombre = input(\"Ingresa tu nombre: \")\n",
    "peso = float(input(\"Ingresa tu peso en kilogramos: \"))\n",
    "altura = float(input(\"Ingresa tu altura en metros: \"))\n",
    "\n",
    "imc(peso, altura, nombre)\n"
   ]
  },
  {
   "cell_type": "code",
   "execution_count": null,
   "id": "454e3aea",
   "metadata": {},
   "outputs": [],
   "source": [
    "datos = {\n",
    "    \"nombre\": \"Joaquin\",\n",
    "    \"peso\": 55.5,\n",
    "    \"altura\": 1.70  \n",
    "}\n",
    "\n",
    "def imc(peso, altura, nombre):\n",
    "    imc_p = peso / (altura**2)  \n",
    "    \n",
    "    if imc_p < 18.5:\n",
    "        return f\"{nombre}, estás bajo de peso: Tu IMC es de: {round(imc_p, 1)}\"\n",
    "    elif imc_p >= 18.5 and imc_p <= 24.9:\n",
    "        return f\"{nombre}, estás en un rango de peso normal: Tu IMC es de: {round(imc_p, 1)}\"\n",
    "    elif imc_p >= 25.0 and imc_p <= 29.9:\n",
    "        return f\"{nombre}, estás en sobrepeso: Tu IMC es de: {round(imc_p, 1)}\"\n",
    "    else:\n",
    "        return f\"{nombre}, tienes obesidad: Tu IMC es de: {round(imc_p, 1)}\"\n",
    "\n",
    "peso = datos[\"peso\"]\n",
    "altura = datos[\"altura\"]\n",
    "nombre = datos[\"nombre\"]\n",
    "\n",
    "imc_result = imc(peso, altura, nombre)"
   ]
  }
 ],
 "metadata": {
  "kernelspec": {
   "display_name": "Python 3 (ipykernel)",
   "language": "python",
   "name": "python3"
  },
  "language_info": {
   "codemirror_mode": {
    "name": "ipython",
    "version": 3
   },
   "file_extension": ".py",
   "mimetype": "text/x-python",
   "name": "python",
   "nbconvert_exporter": "python",
   "pygments_lexer": "ipython3",
   "version": "3.11.4"
  }
 },
 "nbformat": 4,
 "nbformat_minor": 5
}
